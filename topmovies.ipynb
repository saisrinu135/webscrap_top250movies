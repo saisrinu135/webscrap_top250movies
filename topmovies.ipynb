{
 "cells": [
  {
   "cell_type": "code",
   "execution_count": 1,
   "metadata": {},
   "outputs": [],
   "source": [
    "import requests\n",
    "from bs4 import BeautifulSoup\n",
    "import csv\n",
    "\n",
    "def topMovies():\n",
    "    # Fetches top 250 movies data from IMDB.\n",
    "    # Makes a GET request to the IMDB top 250 movies URL. \n",
    "    # Parses the HTML response using BeautifulSoup.\n",
    "    # Returns a BeautifulSoup object containing the parsed HTML.\n",
    "    URL = \"https://www.imdb.com/chart/top/?ref_=nv_mv_250\"\n",
    "    request_header = {'Content-Type': 'text/html; charset=UTF-8', \n",
    "                    'User-Agent': 'Mozilla/5.0 (Windows NT 10.0; Win64; x64; rv:109.0) Gecko/20100101 Firefox/119.0', \n",
    "                    'Accept-Encoding': 'gzip, deflate, br'}\n",
    "    response = requests.get(URL, headers=request_header)\n",
    "    soup = BeautifulSoup(response.text, 'html.parser')\n",
    "    return soup"
   ]
  },
  {
   "cell_type": "code",
   "execution_count": 2,
   "metadata": {},
   "outputs": [],
   "source": [
    "soup = topMovies() # Retrieves the top 250 movies from IMDb\n",
    "movies_list = soup.findAll('li', class_ = 'ipc-metadata-list-summary-item sc-3f724978-0 enKyEL cli-parent')"
   ]
  },
  {
   "cell_type": "code",
   "execution_count": 3,
   "metadata": {},
   "outputs": [
    {
     "name": "stdout",
     "output_type": "stream",
     "text": [
      "'charmap' codec can't encode character '\\u014d' in position 12: character maps to <undefined>\n"
     ]
    }
   ],
   "source": [
    "with open('topMovies.csv', 'w', newline='') as file:\n",
    "    # Write top 250 movies data from IMDb to a CSV file\n",
    "    cur = csv.DictWriter(file, fieldnames=['movieId', 'title','year', 'duration', 'certification', 'rating','reviews'])\n",
    "    cur.writeheader()\n",
    "    for movie in movies_list:\n",
    "        try:\n",
    "            divs = list(movie.children)\n",
    "            movieID = divs[1].a['href'].split('/')[2][2:]\n",
    "            movieTitle = divs[1].a.text\n",
    "            movieTitle = movieTitle[movieTitle.index('.')+1:].strip()\n",
    "            year = divs[1].findAll('span')[1].text\n",
    "            rating = divs[1].findAll('span')[4].text.split()[0]\n",
    "            reviews = divs[1].findAll('span')[4].text.split()[1][:-4].strip('()')\n",
    "            duration = divs[1].findAll('span')[2].text\n",
    "            certification = divs[1].findAll('span')[3].text\n",
    "            cur.writerow(rowdict={'movieId':movieID, 'title':movieTitle, 'year':year, 'duration':duration, 'certification':certification, 'rating':rating, 'reviews':reviews})\n",
    "        except Exception as e:\n",
    "            print(e)"
   ]
  }
 ],
 "metadata": {
  "kernelspec": {
   "display_name": "Python 3",
   "language": "python",
   "name": "python3"
  },
  "language_info": {
   "codemirror_mode": {
    "name": "ipython",
    "version": 3
   },
   "file_extension": ".py",
   "mimetype": "text/x-python",
   "name": "python",
   "nbconvert_exporter": "python",
   "pygments_lexer": "ipython3",
   "version": "3.12.1"
  }
 },
 "nbformat": 4,
 "nbformat_minor": 2
}
